{
 "cells": [
  {
   "cell_type": "code",
   "execution_count": null,
   "id": "88a76685",
   "metadata": {},
   "outputs": [],
   "source": [
    "import pandas as pd\n",
    "import numpy as np\n",
    "import tensorflow as tf\n",
    "from tensorflow import keras\n",
    "from tensorflow.keras import layers\n",
    "from tensorflow.keras.layers.experimental import preprocessing\n",
    "\n",
    "# Load the data\n",
    "data = pd.read_excel(\"YourExcelFile.xlsx\")\n",
    "\n",
    "# Filter data for DrawDay: Tuesday\n",
    "select_data = data[data['DrawDay'] == 'Tuesday']\n",
    "\n",
    "# Extract 'Ball 1', 'Ball 2', 'Ball 3', 'Ball 4', 'Ball 5' columns\n",
    "X = select_data[['Ball 1', 'Ball 2', 'Ball 3', 'Ball 4', 'Ball 5']]\n",
    "\n",
    "# Convert X to a NumPy array\n",
    "X = X.values\n",
    "\n",
    "# Define the model using original TensorFlow\n",
    "model_original = tf.keras.Sequential([\n",
    "    tf.keras.layers.Dense(32, activation='relu', input_shape=(5,)),\n",
    "    tf.keras.layers.Dense(5)  # Output layer with 5 units\n",
    "])\n",
    "model_original.compile(optimizer='adam', loss='mean_squared_error')\n",
    "model_original.fit(X, X, epochs=10, batch_size=32)\n",
    "\n",
    "# Define the model using TensorFlow AutoML\n",
    "input_shape = (5,)\n",
    "model_automl = keras.Sequential([\n",
    "    preprocessing.Normalization(input_shape=input_shape),\n",
    "    layers.Dense(64, activation='relu'),\n",
    "    layers.Dense(1)\n",
    "])\n",
    "model_automl.compile(optimizer='adam', loss='mean_squared_error')\n",
    "model_automl.fit(X, X, epochs=10, batch_size=32)\n",
    "\n",
    "# Predict using the last 10 rows of the filtered data\n",
    "next_draw_data = X[-10:]\n",
    "next_draw_prediction_original = model_original.predict(next_draw_data)\n",
    "next_draw_prediction_automl = model_automl.predict(next_draw_data)\n",
    "\n",
    "# Display predictions using original TensorFlow\n",
    "print(\"Next draw prediction (using TensorFlow):\")\n",
    "for prediction in next_draw_prediction_original:\n",
    "    sorted_prediction = sorted([int(round(p)) for p in prediction])\n",
    "    print(\" \".join(map(str, sorted_prediction)))\n",
    "\n",
    "# Display predictions sorted for each ball using TensorFlow AutoML\n",
    "sorted_predictions_automl = next_draw_prediction_automl.argsort(axis=0)\n",
    "print(\"Next draw predictions (sorted) using TensorFlow AutoML:\")\n",
    "for i, ball in enumerate(['Ball 1', 'Ball 2', 'Ball 3', 'Ball 4', 'Ball 5']):\n",
    "    print(f\"{ball}: {next_draw_data[:, i][sorted_predictions_automl[i]]}\")\n"
   ]
  }
 ],
 "metadata": {
  "kernelspec": {
   "display_name": "Python 3 (ipykernel)",
   "language": "python",
   "name": "python3"
  },
  "language_info": {
   "codemirror_mode": {
    "name": "ipython",
    "version": 3
   },
   "file_extension": ".py",
   "mimetype": "text/x-python",
   "name": "python",
   "nbconvert_exporter": "python",
   "pygments_lexer": "ipython3",
   "version": "3.10.9"
  }
 },
 "nbformat": 4,
 "nbformat_minor": 5
}
